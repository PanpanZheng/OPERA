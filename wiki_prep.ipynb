{
 "cells": [
  {
   "cell_type": "code",
   "execution_count": 1,
   "metadata": {},
   "outputs": [],
   "source": [
    "import pandas as pd\n",
    "import glob\n",
    "import os\n",
    "from pathlib import Path\n",
    "import pickle\n",
    "import random\n",
    "import numpy as np\n",
    "from collections import defaultdict\n",
    "import json\n",
    "root = Path('../data/Wiki/vews_dataset_v1.1')"
   ]
  },
  {
   "cell_type": "markdown",
   "metadata": {},
   "source": [
    "##### 1. load raw data  and extract attributes."
   ]
  },
  {
   "cell_type": "code",
   "execution_count": 2,
   "metadata": {},
   "outputs": [],
   "source": [
    "editingRecordsRaw = []\n",
    "usr2Labels = {}\n",
    "\n",
    "for filename in root.glob('benign_*.csv'):\n",
    "    _editing_records = pd.read_csv(filename)\n",
    "    editingRecordsRaw.append(_editing_records[['username', 'pagetitle', 'isReverted']])\n",
    "    usr2Labels.update(\n",
    "        dict([(_name, int(_label)) for _name, _label in zip(_editing_records['username'].to_numpy().tolist(), \n",
    "                                                       np.zeros(_editing_records.shape[0]).tolist())]))  \n",
    "for filename in root.glob('vandal_*.csv'):\n",
    "    _editing_records = pd.read_csv(filename)\n",
    "    editingRecordsRaw.append(_editing_records[['username', 'pagetitle', 'isReverted']])\n",
    "    usr2Labels.update(\n",
    "        dict([(_name, int(_label)) for _name, _label in zip(_editing_records['username'].to_numpy().tolist(), \n",
    "                                                       np.ones(_editing_records.shape[0]).tolist())]))  \n",
    "\n",
    "editingRecordsRaw = pd.concat(editingRecordsRaw, ignore_index=True)\n",
    "editingRecordsRaw['isReverted'] = editingRecordsRaw['isReverted'].astype('int32')"
   ]
  },
  {
   "cell_type": "code",
   "execution_count": 9,
   "metadata": {},
   "outputs": [
    {
     "data": {
      "text/plain": [
       "16496"
      ]
     },
     "execution_count": 9,
     "metadata": {},
     "output_type": "execute_result"
    }
   ],
   "source": [
    "np.sum(np.array(list(usr2Labels.values()))==0)"
   ]
  },
  {
   "cell_type": "code",
   "execution_count": 10,
   "metadata": {},
   "outputs": [
    {
     "data": {
      "text/plain": [
       "33511"
      ]
     },
     "execution_count": 10,
     "metadata": {},
     "output_type": "execute_result"
    }
   ],
   "source": [
    "len(usr2Labels)"
   ]
  },
  {
   "cell_type": "code",
   "execution_count": 8,
   "metadata": {},
   "outputs": [
    {
     "data": {
      "text/plain": [
       "(756944, 3)"
      ]
     },
     "execution_count": 8,
     "metadata": {},
     "output_type": "execute_result"
    }
   ],
   "source": [
    "editingRecordsRaw.shape"
   ]
  },
  {
   "cell_type": "code",
   "execution_count": 7,
   "metadata": {},
   "outputs": [
    {
     "data": {
      "text/plain": [
       "((33511,), (216997,))"
      ]
     },
     "execution_count": 7,
     "metadata": {},
     "output_type": "execute_result"
    }
   ],
   "source": [
    "pd.unique(editingRecordsRaw['username']).shape, pd.unique(editingRecordsRaw['pagetitle']).shape"
   ]
  },
  {
   "cell_type": "markdown",
   "metadata": {},
   "source": [
    "##### 2. Randomly select positive and negative samples "
   ]
  },
  {
   "cell_type": "code",
   "execution_count": 22,
   "metadata": {},
   "outputs": [],
   "source": [
    "editingRecordsRawPair = editingRecordsRaw.groupby(['username', 'pagetitle']).agg({'pagetitle': ['count']})\n",
    "editingRecordsRawPair.columns = ['pairC']\n",
    "editingRecordsRawUserOutDeg = editingRecordsRawPair.groupby(['username']).agg({'pairC': ['count']})\n",
    "editingRecordsRawUserOutDeg.columns = ['userOutDeg']\n",
    "editingRecordsRawUserOutDeg = editingRecordsRawUserOutDeg.reset_index()"
   ]
  },
  {
   "cell_type": "code",
   "execution_count": 23,
   "metadata": {},
   "outputs": [],
   "source": [
    "user_2_outDeg = dict(\n",
    "    [(editingRecordsRawUserOutDeg.iloc[i]['username'], editingRecordsRawUserOutDeg.iloc[i]['userOutDeg']) \n",
    "     for i in np.arange(editingRecordsRawUserOutDeg.shape[0])])"
   ]
  },
  {
   "cell_type": "code",
   "execution_count": 24,
   "metadata": {},
   "outputs": [],
   "source": [
    "editingRecordsRawRevertRate = editingRecordsRaw.groupby(['username']).agg({'isReverted': ['count', 'sum']})\n",
    "editingRecordsRawRevertRate.columns = ['Count', 'revertedCount']\n",
    "editingRecordsRawRevertRate['revertRate'] = editingRecordsRawRevertRate['revertedCount']/editingRecordsRawRevertRate['Count']\n",
    "editingRecordsRawRevertRate = editingRecordsRawRevertRate.reset_index()"
   ]
  },
  {
   "cell_type": "code",
   "execution_count": 25,
   "metadata": {},
   "outputs": [],
   "source": [
    "user_2_revertRate = dict(\n",
    "    [(editingRecordsRawRevertRate.iloc[i]['username'], editingRecordsRawRevertRate.iloc[i]['revertRate']) \n",
    "     for i in np.arange(editingRecordsRawRevertRate.shape[0])])"
   ]
  },
  {
   "cell_type": "markdown",
   "metadata": {},
   "source": [
    "##### Filter users by the edited pages' amount"
   ]
  },
  {
   "cell_type": "code",
   "execution_count": 7,
   "metadata": {},
   "outputs": [],
   "source": [
    "normal_usrs = list(set([_usr for _usr, _label in usr2Labels.items() if _label == 0 and user_2_outDeg[_usr] > 1 and user_2_revertRate[_usr] < .01]))\n",
    "abnormal_usrs = list(set([_usr for _usr, _label in usr2Labels.items() if _label == 1 and user_2_outDeg[_usr] >= 20 and \n",
    "                         user_2_revertRate[_usr] > .9]))"
   ]
  },
  {
   "cell_type": "code",
   "execution_count": 52,
   "metadata": {},
   "outputs": [],
   "source": [
    "normal_usrs = list(set([_usr for _usr, _label in usr2Labels.items() if _label == 0 and user_2_outDeg[_usr] > 8]))\n",
    "abnormal_usrs = list(set([_usr for _usr, _label in usr2Labels.items() if _label == 1 and user_2_outDeg[_usr] >= 100 ]))"
   ]
  },
  {
   "cell_type": "code",
   "execution_count": 53,
   "metadata": {},
   "outputs": [
    {
     "data": {
      "text/plain": [
       "(3487, 30)"
      ]
     },
     "execution_count": 53,
     "metadata": {},
     "output_type": "execute_result"
    }
   ],
   "source": [
    "len(normal_usrs), len(abnormal_usrs)"
   ]
  },
  {
   "cell_type": "markdown",
   "metadata": {},
   "source": [
    "##### 3. group the selected data by 'user' and 'page'  and derive two new metrics on 'isReverted', editting count and editting revert rate in a group-specific way. "
   ]
  },
  {
   "cell_type": "code",
   "execution_count": 54,
   "metadata": {},
   "outputs": [],
   "source": [
    "random.shuffle(normal_usrs)\n",
    "random.shuffle(abnormal_usrs)\n",
    "sel_normal_usrs = random.sample(normal_usrs, k=3000)\n",
    "sel_abnormal_usrs = random.sample(abnormal_usrs, k=30)\n",
    "\n",
    "sel_usrs = sel_normal_usrs + sel_abnormal_usrs\n",
    "usr2LabelsSel = {}\n",
    "for _usr_name in sel_normal_usrs:\n",
    "    usr2LabelsSel[_usr_name] = 0\n",
    "for _usr_name in sel_abnormal_usrs:\n",
    "    usr2LabelsSel[_usr_name] = 1"
   ]
  },
  {
   "cell_type": "code",
   "execution_count": 55,
   "metadata": {},
   "outputs": [],
   "source": [
    "editingRecordsStatsRaw = editingRecordsRaw.groupby(['username', 'pagetitle']).agg({'isReverted': ['count', 'sum']})\n",
    "editingRecordsStatsRaw.columns = ['editCount', 'revertCount']\n",
    "editingRecordsStatsRaw['revertRate'] = editingRecordsStatsRaw['revertCount']/editingRecordsStatsRaw['editCount']\n",
    "editingRecordsStatsRaw = editingRecordsStatsRaw.reset_index()"
   ]
  },
  {
   "cell_type": "code",
   "execution_count": 56,
   "metadata": {},
   "outputs": [
    {
     "data": {
      "text/html": [
       "<div>\n",
       "<style scoped>\n",
       "    .dataframe tbody tr th:only-of-type {\n",
       "        vertical-align: middle;\n",
       "    }\n",
       "\n",
       "    .dataframe tbody tr th {\n",
       "        vertical-align: top;\n",
       "    }\n",
       "\n",
       "    .dataframe thead th {\n",
       "        text-align: right;\n",
       "    }\n",
       "</style>\n",
       "<table border=\"1\" class=\"dataframe\">\n",
       "  <thead>\n",
       "    <tr style=\"text-align: right;\">\n",
       "      <th></th>\n",
       "      <th>username</th>\n",
       "      <th>pagetitle</th>\n",
       "      <th>editCount</th>\n",
       "      <th>revertCount</th>\n",
       "      <th>revertRate</th>\n",
       "    </tr>\n",
       "  </thead>\n",
       "  <tbody>\n",
       "    <tr>\n",
       "      <th>0</th>\n",
       "      <td>!LIKETHEPOP!</td>\n",
       "      <td>Ernest Shackleton</td>\n",
       "      <td>4</td>\n",
       "      <td>4</td>\n",
       "      <td>1.0</td>\n",
       "    </tr>\n",
       "    <tr>\n",
       "      <th>1</th>\n",
       "      <td>!LIKETHEPOP!</td>\n",
       "      <td>User talk:!LIKETHEPOP!</td>\n",
       "      <td>2</td>\n",
       "      <td>1</td>\n",
       "      <td>0.5</td>\n",
       "    </tr>\n",
       "    <tr>\n",
       "      <th>2</th>\n",
       "      <td>!bdpqbd! 2</td>\n",
       "      <td>Claire Summers</td>\n",
       "      <td>1</td>\n",
       "      <td>1</td>\n",
       "      <td>1.0</td>\n",
       "    </tr>\n",
       "    <tr>\n",
       "      <th>3</th>\n",
       "      <td>!bdpqbd! 2</td>\n",
       "      <td>Daylight (Needtobreathe album)</td>\n",
       "      <td>1</td>\n",
       "      <td>1</td>\n",
       "      <td>1.0</td>\n",
       "    </tr>\n",
       "    <tr>\n",
       "      <th>4</th>\n",
       "      <td>\"Weird Nerd\" Yankovic</td>\n",
       "      <td>Ball-peen hammer</td>\n",
       "      <td>1</td>\n",
       "      <td>1</td>\n",
       "      <td>1.0</td>\n",
       "    </tr>\n",
       "    <tr>\n",
       "      <th>...</th>\n",
       "      <td>...</td>\n",
       "      <td>...</td>\n",
       "      <td>...</td>\n",
       "      <td>...</td>\n",
       "      <td>...</td>\n",
       "    </tr>\n",
       "    <tr>\n",
       "      <th>264571</th>\n",
       "      <td>현대증권 시즌1</td>\n",
       "      <td>Jajangmyeon</td>\n",
       "      <td>5</td>\n",
       "      <td>5</td>\n",
       "      <td>1.0</td>\n",
       "    </tr>\n",
       "    <tr>\n",
       "      <th>264572</th>\n",
       "      <td>현대증권 시즌1</td>\n",
       "      <td>User talk:현대증권 시즌1</td>\n",
       "      <td>2</td>\n",
       "      <td>0</td>\n",
       "      <td>0.0</td>\n",
       "    </tr>\n",
       "    <tr>\n",
       "      <th>264573</th>\n",
       "      <td>현대증권 시즌2</td>\n",
       "      <td>Beef</td>\n",
       "      <td>3</td>\n",
       "      <td>3</td>\n",
       "      <td>1.0</td>\n",
       "    </tr>\n",
       "    <tr>\n",
       "      <th>264574</th>\n",
       "      <td>현대증권 시즌2</td>\n",
       "      <td>Mocaccino</td>\n",
       "      <td>11</td>\n",
       "      <td>11</td>\n",
       "      <td>1.0</td>\n",
       "    </tr>\n",
       "    <tr>\n",
       "      <th>264575</th>\n",
       "      <td>현대증권 시즌2</td>\n",
       "      <td>User talk:현대증권 시즌2</td>\n",
       "      <td>3</td>\n",
       "      <td>3</td>\n",
       "      <td>1.0</td>\n",
       "    </tr>\n",
       "  </tbody>\n",
       "</table>\n",
       "<p>264576 rows × 5 columns</p>\n",
       "</div>"
      ],
      "text/plain": [
       "                     username                       pagetitle  editCount  \\\n",
       "0                !LIKETHEPOP!               Ernest Shackleton          4   \n",
       "1                !LIKETHEPOP!          User talk:!LIKETHEPOP!          2   \n",
       "2                  !bdpqbd! 2                  Claire Summers          1   \n",
       "3                  !bdpqbd! 2  Daylight (Needtobreathe album)          1   \n",
       "4       \"Weird Nerd\" Yankovic                Ball-peen hammer          1   \n",
       "...                       ...                             ...        ...   \n",
       "264571               현대증권 시즌1                     Jajangmyeon          5   \n",
       "264572               현대증권 시즌1              User talk:현대증권 시즌1          2   \n",
       "264573               현대증권 시즌2                            Beef          3   \n",
       "264574               현대증권 시즌2                       Mocaccino         11   \n",
       "264575               현대증권 시즌2              User talk:현대증권 시즌2          3   \n",
       "\n",
       "        revertCount  revertRate  \n",
       "0                 4         1.0  \n",
       "1                 1         0.5  \n",
       "2                 1         1.0  \n",
       "3                 1         1.0  \n",
       "4                 1         1.0  \n",
       "...             ...         ...  \n",
       "264571            5         1.0  \n",
       "264572            0         0.0  \n",
       "264573            3         1.0  \n",
       "264574           11         1.0  \n",
       "264575            3         1.0  \n",
       "\n",
       "[264576 rows x 5 columns]"
      ]
     },
     "execution_count": 56,
     "metadata": {},
     "output_type": "execute_result"
    }
   ],
   "source": [
    "editingRecordsStatsRaw"
   ]
  },
  {
   "cell_type": "code",
   "execution_count": 57,
   "metadata": {},
   "outputs": [],
   "source": [
    "editingRecordsStatsSel = editingRecordsStatsRaw[editingRecordsStatsRaw.username.isin(sel_usrs)]"
   ]
  },
  {
   "cell_type": "code",
   "execution_count": 58,
   "metadata": {},
   "outputs": [
    {
     "data": {
      "text/html": [
       "<div>\n",
       "<style scoped>\n",
       "    .dataframe tbody tr th:only-of-type {\n",
       "        vertical-align: middle;\n",
       "    }\n",
       "\n",
       "    .dataframe tbody tr th {\n",
       "        vertical-align: top;\n",
       "    }\n",
       "\n",
       "    .dataframe thead th {\n",
       "        text-align: right;\n",
       "    }\n",
       "</style>\n",
       "<table border=\"1\" class=\"dataframe\">\n",
       "  <thead>\n",
       "    <tr style=\"text-align: right;\">\n",
       "      <th></th>\n",
       "      <th>username</th>\n",
       "      <th>pagetitle</th>\n",
       "      <th>editCount</th>\n",
       "      <th>revertCount</th>\n",
       "      <th>revertRate</th>\n",
       "    </tr>\n",
       "  </thead>\n",
       "  <tbody>\n",
       "    <tr>\n",
       "      <th>14</th>\n",
       "      <td>*7Risa7*</td>\n",
       "      <td>Ariel (Once Upon a Time)</td>\n",
       "      <td>2</td>\n",
       "      <td>0</td>\n",
       "      <td>0.0</td>\n",
       "    </tr>\n",
       "    <tr>\n",
       "      <th>15</th>\n",
       "      <td>*7Risa7*</td>\n",
       "      <td>Brady family</td>\n",
       "      <td>1</td>\n",
       "      <td>0</td>\n",
       "      <td>0.0</td>\n",
       "    </tr>\n",
       "    <tr>\n",
       "      <th>16</th>\n",
       "      <td>*7Risa7*</td>\n",
       "      <td>Dark Hollow</td>\n",
       "      <td>3</td>\n",
       "      <td>0</td>\n",
       "      <td>0.0</td>\n",
       "    </tr>\n",
       "    <tr>\n",
       "      <th>17</th>\n",
       "      <td>*7Risa7*</td>\n",
       "      <td>Deep Breath (Doctor Who)</td>\n",
       "      <td>1</td>\n",
       "      <td>0</td>\n",
       "      <td>0.0</td>\n",
       "    </tr>\n",
       "    <tr>\n",
       "      <th>18</th>\n",
       "      <td>*7Risa7*</td>\n",
       "      <td>Down the Rabbit Hole (Once Upon a Time in Wond...</td>\n",
       "      <td>1</td>\n",
       "      <td>0</td>\n",
       "      <td>0.0</td>\n",
       "    </tr>\n",
       "    <tr>\n",
       "      <th>...</th>\n",
       "      <td>...</td>\n",
       "      <td>...</td>\n",
       "      <td>...</td>\n",
       "      <td>...</td>\n",
       "      <td>...</td>\n",
       "    </tr>\n",
       "    <tr>\n",
       "      <th>264246</th>\n",
       "      <td>^v^ FreeBird ^v^</td>\n",
       "      <td>Steve Phillips (musician)</td>\n",
       "      <td>2</td>\n",
       "      <td>0</td>\n",
       "      <td>0.0</td>\n",
       "    </tr>\n",
       "    <tr>\n",
       "      <th>264247</th>\n",
       "      <td>^v^ FreeBird ^v^</td>\n",
       "      <td>The Devil Went Down to Georgia</td>\n",
       "      <td>2</td>\n",
       "      <td>0</td>\n",
       "      <td>0.0</td>\n",
       "    </tr>\n",
       "    <tr>\n",
       "      <th>264248</th>\n",
       "      <td>^v^ FreeBird ^v^</td>\n",
       "      <td>Twang</td>\n",
       "      <td>1</td>\n",
       "      <td>1</td>\n",
       "      <td>1.0</td>\n",
       "    </tr>\n",
       "    <tr>\n",
       "      <th>264249</th>\n",
       "      <td>^v^ FreeBird ^v^</td>\n",
       "      <td>User talk:^v^ FreeBird ^v^</td>\n",
       "      <td>1</td>\n",
       "      <td>0</td>\n",
       "      <td>0.0</td>\n",
       "    </tr>\n",
       "    <tr>\n",
       "      <th>264250</th>\n",
       "      <td>^v^ FreeBird ^v^</td>\n",
       "      <td>User:^v^ FreeBird ^v^</td>\n",
       "      <td>2</td>\n",
       "      <td>0</td>\n",
       "      <td>0.0</td>\n",
       "    </tr>\n",
       "  </tbody>\n",
       "</table>\n",
       "<p>137488 rows × 5 columns</p>\n",
       "</div>"
      ],
      "text/plain": [
       "                username                                          pagetitle  \\\n",
       "14              *7Risa7*                           Ariel (Once Upon a Time)   \n",
       "15              *7Risa7*                                       Brady family   \n",
       "16              *7Risa7*                                        Dark Hollow   \n",
       "17              *7Risa7*                           Deep Breath (Doctor Who)   \n",
       "18              *7Risa7*  Down the Rabbit Hole (Once Upon a Time in Wond...   \n",
       "...                  ...                                                ...   \n",
       "264246  ^v^ FreeBird ^v^                          Steve Phillips (musician)   \n",
       "264247  ^v^ FreeBird ^v^                     The Devil Went Down to Georgia   \n",
       "264248  ^v^ FreeBird ^v^                                              Twang   \n",
       "264249  ^v^ FreeBird ^v^                         User talk:^v^ FreeBird ^v^   \n",
       "264250  ^v^ FreeBird ^v^                              User:^v^ FreeBird ^v^   \n",
       "\n",
       "        editCount  revertCount  revertRate  \n",
       "14              2            0         0.0  \n",
       "15              1            0         0.0  \n",
       "16              3            0         0.0  \n",
       "17              1            0         0.0  \n",
       "18              1            0         0.0  \n",
       "...           ...          ...         ...  \n",
       "264246          2            0         0.0  \n",
       "264247          2            0         0.0  \n",
       "264248          1            1         1.0  \n",
       "264249          1            0         0.0  \n",
       "264250          2            0         0.0  \n",
       "\n",
       "[137488 rows x 5 columns]"
      ]
     },
     "execution_count": 58,
     "metadata": {},
     "output_type": "execute_result"
    }
   ],
   "source": [
    "editingRecordsStatsSel"
   ]
  },
  {
   "cell_type": "markdown",
   "metadata": {},
   "source": [
    "##### 4. According to the input format of OPERA , remodel the dataset."
   ]
  },
  {
   "cell_type": "code",
   "execution_count": 59,
   "metadata": {},
   "outputs": [],
   "source": [
    "id_2_usr = dict([(i, _username) for i, _username in enumerate(set(editingRecordsStatsSel['username'].to_numpy().tolist()))])\n",
    "usr_2_id = dict([(_username, i) for i, _username in enumerate(set(editingRecordsStatsSel['username'].to_numpy().tolist()))])\n",
    "usr_num_base = len(usr_2_id)\n",
    "id_2_page = dict([(i + usr_num_base, _title) for i, _title in enumerate(set(editingRecordsStatsSel['pagetitle'].to_numpy().tolist()))])\n",
    "page_2_id = dict([(_title, i + usr_num_base) for i, _title in enumerate(set(editingRecordsStatsSel['pagetitle'].to_numpy().tolist()))])"
   ]
  },
  {
   "cell_type": "code",
   "execution_count": 60,
   "metadata": {},
   "outputs": [
    {
     "data": {
      "text/plain": [
       "(3030, 3030, 125392, 125392)"
      ]
     },
     "execution_count": 60,
     "metadata": {},
     "output_type": "execute_result"
    }
   ],
   "source": [
    "len(id_2_usr), usr_num_base, len(id_2_page), len(page_2_id)"
   ]
  },
  {
   "cell_type": "code",
   "execution_count": 61,
   "metadata": {},
   "outputs": [],
   "source": [
    "with open('../data/Wiki/id_2_usr.json', 'w') as fp:\n",
    "    json.dump(id_2_usr, fp)\n",
    "with open('../data/Wiki/usr_2_id.json', 'w') as fp:\n",
    "    json.dump(usr_2_id, fp)\n",
    "with open('../data/Wiki/id_2_page.json', 'w') as fp:\n",
    "    json.dump(id_2_page, fp)\n",
    "with open('../data/Wiki/page_2_id.json', 'w') as fp:\n",
    "    json.dump(page_2_id, fp)"
   ]
  },
  {
   "cell_type": "code",
   "execution_count": 63,
   "metadata": {},
   "outputs": [],
   "source": [
    "f_graph = open('../data/Wiki/usr_page.graph', \"w\")\n",
    "f_graphW_binary = open('../data/Wiki/usr_page_wtgraph_binary.txt', \"w\")\n",
    "f_graphW_count = open('../data/Wiki/usr_page_wtgraph_count.txt', \"w\")\n",
    "f_graphW_revert = open('../data/Wiki/usr_page_wtgraph_revertRate.txt', \"w\")\n",
    "  \n",
    "for i in np.arange(editingRecordsStatsSel.shape[0]):\n",
    "    \n",
    "    try:\n",
    "        _username = editingRecordsStatsSel.iloc[i]['username']\n",
    "        _pagetitle = editingRecordsStatsSel.iloc[i]['pagetitle']\n",
    "        _editCount = editingRecordsStatsSel.iloc[i]['editCount']\n",
    "        _revertRate = editingRecordsStatsSel.iloc[i]['revertRate']\n",
    "        f_graph.write(str(usr_2_id[_username]) + \" \" + str(page_2_id[_pagetitle]) + \"\\n\")\n",
    "        f_graphW_binary.write(str(usr_2_id[_username]) + \" \" + str(page_2_id[_pagetitle]) + \" \" + \"1\"  + \"\\n\")\n",
    "        f_graphW_count.write(str(usr_2_id[_username]) + \" \" + str(page_2_id[_pagetitle]) + \" \" + str(_editCount)  + \"\\n\")\n",
    "        f_graphW_revert.write(str(usr_2_id[_username]) + \" \" + str(page_2_id[_pagetitle]) + \" \" + str(_revertRate)  + \"\\n\")\n",
    "    except:\n",
    "        print(_username, _pagetitle, _editCount, _revertRate)\n",
    "        break\n",
    "\n",
    "f_graph.close()\n",
    "f_graphW_binary.close()\n",
    "f_graphW_count.close()\n",
    "f_graphW_revert.close()"
   ]
  },
  {
   "cell_type": "code",
   "execution_count": 64,
   "metadata": {},
   "outputs": [],
   "source": [
    "usr2LabelsSel = dict([(usr_2_id[_usr], _label) for _usr, _label in usr2LabelsSel.items()])\n",
    "with open('../data/Wiki/usr2LabelsSel.json', 'w') as fp:\n",
    "    json.dump(usr2LabelsSel, fp)"
   ]
  },
  {
   "cell_type": "code",
   "execution_count": null,
   "metadata": {},
   "outputs": [],
   "source": []
  }
 ],
 "metadata": {
  "kernelspec": {
   "display_name": "Python 3",
   "language": "python",
   "name": "python3"
  },
  "language_info": {
   "codemirror_mode": {
    "name": "ipython",
    "version": 3
   },
   "file_extension": ".py",
   "mimetype": "text/x-python",
   "name": "python",
   "nbconvert_exporter": "python",
   "pygments_lexer": "ipython3",
   "version": "3.7.3"
  }
 },
 "nbformat": 4,
 "nbformat_minor": 2
}
