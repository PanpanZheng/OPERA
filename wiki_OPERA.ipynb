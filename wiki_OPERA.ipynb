{
 "cells": [
  {
   "cell_type": "code",
   "execution_count": 1,
   "metadata": {},
   "outputs": [],
   "source": [
    "import sys\n",
    "sys.path.append(\"./\")\n",
    "import numpy as np\n",
    "import pandas as pd\n",
    "import networkx as nx\n",
    "import scipy.sparse\n",
    "import collections\n",
    "from collections import Counter, defaultdict\n",
    "import json\n",
    "import svd_new\n",
    "from toolKit import load_graph\n",
    "from matlab import engine\n",
    "from itertools import combinations\n",
    "from networkx.algorithms import bipartite\n",
    "import matplotlib.pyplot as plt\n",
    "from sklearn.metrics import roc_curve, auc\n",
    "import seaborn as sns"
   ]
  },
  {
   "cell_type": "code",
   "execution_count": 2,
   "metadata": {},
   "outputs": [],
   "source": [
    "eng = engine.start_matlab()"
   ]
  },
  {
   "cell_type": "code",
   "execution_count": 3,
   "metadata": {},
   "outputs": [],
   "source": [
    "repos_root = \"data/Wiki\""
   ]
  },
  {
   "cell_type": "markdown",
   "metadata": {},
   "source": [
    "### 1. Load data"
   ]
  },
  {
   "cell_type": "code",
   "execution_count": 4,
   "metadata": {},
   "outputs": [],
   "source": [
    "usr_2_page, page_2_usr = load_graph(\"%s/usr_page.graph\"%repos_root) # bipartite graph.\n",
    "with open('%s/usr2LabelsSel.json'%repos_root, 'r') as fp:\n",
    "    usrId2Labels = json.load(fp)\n",
    "num_node = len(usr_2_page) + len(page_2_usr)"
   ]
  },
  {
   "cell_type": "code",
   "execution_count": 5,
   "metadata": {},
   "outputs": [
    {
     "data": {
      "text/plain": [
       "3030"
      ]
     },
     "execution_count": 5,
     "metadata": {},
     "output_type": "execute_result"
    }
   ],
   "source": [
    "len(usrId2Labels)"
   ]
  },
  {
   "cell_type": "code",
   "execution_count": 6,
   "metadata": {},
   "outputs": [
    {
     "data": {
      "text/plain": [
       "(3030, 125392)"
      ]
     },
     "execution_count": 6,
     "metadata": {},
     "output_type": "execute_result"
    }
   ],
   "source": [
    "len(usr_2_page), len(page_2_usr)"
   ]
  },
  {
   "cell_type": "code",
   "execution_count": 7,
   "metadata": {},
   "outputs": [
    {
     "data": {
      "text/plain": [
       "128422"
      ]
     },
     "execution_count": 7,
     "metadata": {},
     "output_type": "execute_result"
    }
   ],
   "source": [
    "num_node"
   ]
  },
  {
   "cell_type": "code",
   "execution_count": 8,
   "metadata": {},
   "outputs": [],
   "source": [
    "mat_binary = svd_new.load_matrix('%s/usr_page_wtgraph_binary.txt'%repos_root, shape=(num_node, num_node)).astype(int)\n",
    "G_binary = nx.from_scipy_sparse_matrix(mat_binary, create_using=nx.DiGraph(), edge_attribute='binary')\n",
    "\n",
    "mat_edit_count = svd_new.load_matrix('%s/usr_page_wtgraph_count.txt'%repos_root, shape=(num_node, num_node))\n",
    "G_edit_count = nx.from_scipy_sparse_matrix(mat_edit_count, create_using=nx.DiGraph(), edge_attribute='editCount')\n",
    "\n",
    "mat_revert_rate = svd_new.load_matrix('%s/usr_page_wtgraph_revertRate.txt'%repos_root, shape=(num_node, num_node))\n",
    "G_revert_rate = nx.from_scipy_sparse_matrix(mat_revert_rate, create_using=nx.DiGraph(), edge_attribute='revertRate')"
   ]
  },
  {
   "cell_type": "code",
   "execution_count": 9,
   "metadata": {},
   "outputs": [],
   "source": [
    "scipy.sparse.save_npz('%s/mat_binary.npz'%repos_root, mat_binary)\n",
    "scipy.sparse.save_npz('%s/mat_edit_count.npz'%repos_root, mat_edit_count)\n",
    "scipy.sparse.save_npz('%s/mat_revert_rate.npz'%repos_root, mat_revert_rate)"
   ]
  },
  {
   "cell_type": "code",
   "execution_count": 10,
   "metadata": {},
   "outputs": [],
   "source": [
    "outdegree_distr = []\n",
    "outdegree_distr_log = []\n",
    "usr_id = []\n",
    "for _usr, _pages in usr_2_page.items():\n",
    "    _outdegree = G_binary.out_degree(_usr)\n",
    "    outdegree_distr.append(_outdegree)\n",
    "    outdegree_distr_log.append(np.log2(_outdegree))\n",
    "    usr_id.append(_usr)\n",
    "editCount_distri_out = []\n",
    "editCount_distri_out_log = []\n",
    "usr_edit_count = []\n",
    "for _usr in usr_2_page.keys():\n",
    "    _outdegree_weight = G_edit_count.out_degree(_usr, weight=\"editCount\")\n",
    "    editCount_distri_out.append(_outdegree_weight)\n",
    "    editCount_distri_out_log.append(np.log2(_outdegree_weight))\n",
    "    usr_edit_count.append(_usr)\n",
    "revertRate_distri_out = []\n",
    "revertRate_distri_out_log = []\n",
    "usr_revertRate = []\n",
    "for _usr in usr_2_page.keys():\n",
    "#     _outdegree_weight = G_revert_rate.out_degree(_usr, weight=\"revertRate\")/float(G_revert_rate.out_degree(_usr))\n",
    "    _outdegree_weight = G_revert_rate.out_degree(_usr, weight=\"revertRate\")\n",
    "    if _outdegree_weight == 0.:\n",
    "        _outdegree_weight = np.exp(-10)\n",
    "    revertRate_distri_out.append(_outdegree_weight)\n",
    "    revertRate_distri_out_log.append(np.log2(_outdegree_weight))\n",
    "    usr_revertRate.append(_usr)"
   ]
  },
  {
   "cell_type": "markdown",
   "metadata": {},
   "source": [
    "### 2. Functions"
   ]
  },
  {
   "cell_type": "code",
   "execution_count": 11,
   "metadata": {},
   "outputs": [],
   "source": [
    "def draw_distr_log(x, y, x_abn, metric_name):\n",
    "\n",
    "    fig = plt.figure()\n",
    "    fig.patch.set_facecolor('w')\n",
    "    x_log = np.log2(x)\n",
    "    y_log = np.log2(y)\n",
    "    f = np.polyfit(x_log,y_log,4)\n",
    "    y_log_hat = [f[0]*_x*_x*_x*_x + f[1]*_x *_x*_x + f[2]*_x*_x + f[3]*_x + f[4] for _x in x_log]\n",
    "    p1, = plt.plot(x_log, y_log, \"-oc\")\n",
    "    p2, = plt.plot(x_log, y_log_hat,\"--or\")\n",
    "    \n",
    "    for i in np.log2(x_abn):\n",
    "        plt.axvline(x=i)\n",
    "    \n",
    "    plt.xlabel(\"%s\"%metric_name)\n",
    "    plt.ylabel(\"frequency (log)\")\n",
    "    leg = plt.legend([p1, p2], ['outdegree_log', 'outdegree_log_fitted'], loc=1, bbox_to_anchor=(1, 1), borderaxespad=0.)\n",
    "    leg.draw_frame(False)\n",
    "    plt.show()"
   ]
  },
  {
   "cell_type": "markdown",
   "metadata": {},
   "source": [
    "##### 2.1 logSpike"
   ]
  },
  {
   "cell_type": "code",
   "execution_count": 12,
   "metadata": {},
   "outputs": [],
   "source": [
    "def logSpikeFilter(X, Cs, metric, perc_Ys_dev, perc_Xs):\n",
    "\n",
    "    \"\"\"\n",
    "    Output the suspicious customer set.\n",
    "    Parameters:\n",
    "        X: the value list of this specific metric for each customer.\n",
    "        Cs: the corresponding customer list.\n",
    "    Returns: \n",
    "        Suspicious customers released by the model.\n",
    "    \"\"\"\n",
    "\n",
    "    if metric == \"outdegree_denomination\":\n",
    "        _round_X = np.round(X).astype(int)+1\n",
    "        _counter = dict(Counter(_round_X))\n",
    "    else:\n",
    "        _counter = dict(Counter(X))\n",
    "    _ux = np.array(list(_counter.keys()))\n",
    "    _y = np.array(list(_counter.values()))\n",
    "\n",
    "    x = np.log2(_ux)\n",
    "    y = np.log2(_y)\n",
    "#     f = np.polyfit(x,y,1)\n",
    "#     y_hat = [f[0]*_x + f[1] for _x in x]\n",
    "    \n",
    "    \n",
    "#     f = np.polyfit(x,y,4)\n",
    "#     y_hat = [f[0]*_x*_x*_x*_x + f[1]*_x *_x*_x + f[2]*_x*_x + f[3]*_x + f[4] for _x in x]\n",
    "\n",
    "\n",
    "    f = np.polyfit(x,y,5)\n",
    "    y_hat = [f[0]*_x*_x*_x*_x*_x + f[1]*_x*_x*_x*_x + f[2]*_x *_x*_x + f[3]*_x*_x + f[4]*_x + f[5] for _x in x]\n",
    "    \n",
    "    dev_fit = np.abs(y - y_hat)\n",
    "    dev_thrld = np.percentile(dev_fit, perc_Ys_dev)\n",
    "    sus_set = _ux[dev_fit >= dev_thrld]\n",
    "    \n",
    "    _sus_score = dev_fit/np.linalg.norm(dev_fit).astype(float)\n",
    "    ux_2_susScore = dict(zip(_ux, _sus_score))\n",
    "    \n",
    "    if metric == \"outdegree_denomination\":\n",
    "        thrld = np.percentile(_round_X, 90)\n",
    "    else:\n",
    "        thrld = np.percentile(X, perc_Xs)\n",
    "    \n",
    "    sus_customers_dict = defaultdict(list)\n",
    "    suspicous_score_X = {}\n",
    "    if metric == \"outdegree_denomination\":\n",
    "        for _metric, _idx in zip(_round_X, Cs):\n",
    "            if _metric in sus_set and _metric > thrld:\n",
    "                sus_customers_dict[_metric].append(_idx)\n",
    "    else:\n",
    "        for _metric, _idx in zip(X, Cs):\n",
    "            if _metric in sus_set and _metric > thrld:\n",
    "                sus_customers_dict[_metric].append(_idx)\n",
    "            suspicous_score_X[_idx] = ux_2_susScore[_metric]\n",
    "            \n",
    "    sus_customers = []\n",
    "    for _, _customers in sus_customers_dict.items():\n",
    "        sus_customers.extend(_customers)\n",
    "    sus_customers = set(sus_customers)\n",
    "\n",
    "    return sus_customers, suspicous_score_X"
   ]
  },
  {
   "cell_type": "code",
   "execution_count": 13,
   "metadata": {},
   "outputs": [],
   "source": [
    "def logSpikeFilterComponent(X, Cs):\n",
    "\n",
    "    \"\"\"\n",
    "    Output the suspicious customer set (Component-oriented).\n",
    "    Parameters:\n",
    "        X: the value list of this specific metric for each compoentn.\n",
    "        Cs: the corresponding component list.\n",
    "    Returns: \n",
    "        Suspicious customers released by the model.\n",
    "    \"\"\"\n",
    "\n",
    "    _round_component = np.round(X).astype(int)+1\n",
    "    _counter_component = dict(Counter(_round_component))\n",
    "\n",
    "    ux_component = np.array(_counter_component.keys())\n",
    "    y_component = np.array(_counter_component.values())\n",
    "\n",
    "    x = np.log2(ux_component)\n",
    "    y = np.log2(y_component)\n",
    "#     f = np.polyfit(x,y,1)\n",
    "#     y_hat = [f[0]*_x + f[1] for _x in x]\n",
    "    \n",
    "#     f = np.polyfit(x,y,4)\n",
    "#     y_hat = [f[0]*_x*_x*_x*_x + f[1]*_x *_x*_x + f[2]*_x*_x + f[3]*_x + f[4] for _x in x]\n",
    "\n",
    "\n",
    "    f = np.polyfit(x,y,5)\n",
    "    y_hat = [f[0]*_x*_x*_x*_x*_x + f[1]*_x*_x*_x*_x + f[2]*_x *_x*_x + f[3]*_x*_x + f[4]*_x + f[5] for _x in x]\n",
    "\n",
    "    dev_fit_component = np.abs(y - y_hat)\n",
    "    dev_thrld_component = np.percentile(dev_fit_component, 95)\n",
    "    thrld_component = np.percentile(_round_component, 95)\n",
    "\n",
    "    sus_set_component = ux_component[dev_fit_component >= dev_thrld_component]\n",
    "\n",
    "    sus_components = defaultdict(list)\n",
    "    for _metric, _component in zip(_round_component, Cs):\n",
    "        if _metric in sus_set_component and _metric > thrld_component:\n",
    "            sus_components[_metric].append(_component)\n",
    "\n",
    "    component_pool = []\n",
    "    for _component in sus_components.values():\n",
    "        component_pool.extend(_component)\n",
    "\n",
    "    sus_customers = []\n",
    "    for _component in component_pool:\n",
    "        sus_customers.extend(_component.nodes)\n",
    "    sus_customers = set(sus_customers)\n",
    "\n",
    "    return sus_customers"
   ]
  },
  {
   "cell_type": "markdown",
   "metadata": {},
   "source": [
    "##### 2.2 oddRatio"
   ]
  },
  {
   "cell_type": "code",
   "execution_count": 14,
   "metadata": {},
   "outputs": [],
   "source": [
    "\"\"\"                                                               \n",
    "Function: Odds ratio Filter.                                      \n",
    "Author: Panpan Zheng                                              \n",
    "Date: 8/23/2019                                                   \n",
    "\"\"\"                                                               \n",
    "                                                                        \n",
    "def OddsRatioFilter(X, Y, Y_fit, Xs, Cs, metric, perc_Ys_dev, perc_Xs):                 \n",
    "\t\"\"\"                                                           \n",
    "\tOutput the suspicious customer set.                           \n",
    "\tParameters:                                                   \n",
    "\t\tX: a list of unique values of one certain metric          \n",
    "\t\tY: a list of expirical OddsRatios corresponding to X      \n",
    "\t\tY_fit: a list of estimated OddsRatios.                    \n",
    "\t\tXs: the value list of this specific metric for each custom\n",
    "\t\tCs: the corresponding customer list.                      \n",
    "\tReturns:                                                      \n",
    "\t\tSuspicious customers released by the model.               \n",
    "\t\"\"\"                                                           \n",
    "                                                                  \n",
    "\tdev_fit = np.abs(Y - Y_fit)                                   \n",
    "\tdev_thrld = np.percentile(dev_fit, perc_Ys_dev)\n",
    "\t_sus_score = dev_fit/np.linalg.norm(dev_fit).astype(float)\n",
    "\tX_2_susScore = dict(zip(X, _sus_score))\n",
    "\tX_2_susScore[np.max(Xs)] = .5\n",
    "                           \n",
    "\tif metric == \"outdegree\":                                   \n",
    "\t\tthrld = np.percentile(Xs, perc_Xs)                             \n",
    "\telif metric == \"editCount\":                         \n",
    "\t\tthrld = np.percentile(Xs, perc_Xs)                             \n",
    "\telif metric == \"revertRate\":                             \n",
    "\t\tthrld = np.percentile(Xs, perc_Xs)                        \n",
    "\tsus_set = X[dev_fit >= dev_thrld]                             \n",
    "                                                                  \n",
    "\tsus_customers_dict = defaultdict(list)\n",
    "\tsuspicous_score_X = {}\n",
    "\tfor _metric, _idx in zip(Xs, Cs):                             \n",
    "\t\tif _metric in sus_set and _metric > thrld:                \n",
    "\t\t\tsus_customers_dict[_metric].append(_idx)\n",
    "# \t\ttry:\n",
    "\t\tsuspicous_score_X[_idx] = X_2_susScore[_metric]\n",
    "# \t\texcept:\n",
    "# \t\t\tsuspicous_score_X\n",
    "# \t\t\t\tprint(\"hello\")\n",
    "        \n",
    "\tsus_customers = []                                            \n",
    "\tfor _, _customers in sus_customers_dict.items():              \n",
    "\t    sus_customers.extend(_customers)                          \n",
    "\tsus_customers = set(sus_customers)                            \n",
    "                                                                  \n",
    "\treturn sus_customers, suspicous_score_X                                          \n",
    "                                                                  \n",
    "def OddsRatioFilterComponent(X, Y, Y_fit, Xs, Cs, perc_Ys_dev, perc_Xs):                \n",
    "\t\"\"\"                                                           \n",
    "\tOutput the suspicious customer set.                           \n",
    "\tParameters:                                                   \n",
    "\t\tX: a list of unique values of one certain component metric\n",
    "\t\tY: a list of expirical OddsRatios corresponding to X      \n",
    "\t\tY_fit: a list of estimated OddsRatios.                    \n",
    "\t\tXs: the value list of this specific metric for each compon\n",
    "\t\tCs: the corresponding component list.                     \n",
    "\tReturns:                                                      \n",
    "\t\tSuspicious customers released by the model.               \n",
    "\t\"\"\"                                                           \n",
    "                                                                  \n",
    "\tdev_fit = np.abs(Y - Y_fit)                                   \n",
    "\tdev_thrld = np.percentile(dev_fit, perc_Ys_dev)                        \n",
    "\tthrld = np.percentile(Xs, perc_Xs)                       \n",
    "                                                                  \n",
    "\tsus_set = X[dev_fit >= dev_thrld]                             \n",
    "\t                                                              \n",
    "\tsus_components = defaultdict(list)                            \n",
    "\tfor _metric, _component in zip(Xs, Cs):                       \n",
    "\t    if _metric in sus_set and _metric > thrld:                \n",
    "\t        sus_components[_metric].append(_component)            \n",
    "                                                                  \n",
    "\tcomponent_pool = []                                           \n",
    "\tfor _component in sus_components.values():                    \n",
    "\t    component_pool.extend(_component)                         \n",
    "                                                                  \n",
    "\tsus_customers = []                                            \n",
    "\tfor _component in component_pool:                             \n",
    "\t    sus_customers.extend(_component.nodes)                    \n",
    "\tsus_customers = set(sus_customers)                            \n",
    "                                                                  \n",
    "\treturn sus_customers"
   ]
  },
  {
   "cell_type": "markdown",
   "metadata": {},
   "source": [
    "##### 2.3 spectralRay"
   ]
  },
  {
   "cell_type": "code",
   "execution_count": 15,
   "metadata": {},
   "outputs": [],
   "source": [
    "def mergeDict(dict1, dict2):\n",
    "   ''' Merge dictionaries and keep values of common keys in list'''\n",
    "   dict3 = {**dict1, **dict2}\n",
    "   for key, value in dict3.items():\n",
    "       if key in dict1 and key in dict2:\n",
    "               dict3[key] = [value , dict1[key]]\n",
    "   return dict3"
   ]
  },
  {
   "cell_type": "code",
   "execution_count": 16,
   "metadata": {},
   "outputs": [],
   "source": [
    "def reemovNestings(l):\n",
    "    output=[]\n",
    "    for i in l: \n",
    "        if type(i) == list: \n",
    "            output.extend(reemovNestings(i))\n",
    "        else: \n",
    "            output.append(i)\n",
    "    return output"
   ]
  },
  {
   "cell_type": "code",
   "execution_count": 17,
   "metadata": {},
   "outputs": [],
   "source": [
    "def SpectralRay(K, adj_mat, thrld):\n",
    "\n",
    "    \"\"\"\n",
    "    Take on the procedure of SpectralRayFilter.\n",
    "\n",
    "    Parameters: \n",
    "        K: the desired dimensionality of output data\n",
    "        adj_mat: the adjecency matrix feeded into SVD\n",
    "        thrld: the restricted threshold used to filter the points close to the origin.\n",
    "    Returns: \n",
    "        the outliers released by spectralRayFilter.\n",
    "    \"\"\"\n",
    "    \n",
    "    # singular value decomposition\n",
    "    # print \"SVD is going.\"\n",
    "    U, Sigma, V = svd_new.svd_scipy(adj_mat, K)\n",
    "    VT = np.transpose(V)\n",
    "    # print \"SVD is over.\"\n",
    "    \n",
    "    # print \"TRIPWIRE is going.\"\n",
    "    extracted_givers, extracted_claimers = defaultdict(list), defaultdict(list)\n",
    "    ray_angle_deviation = {}\n",
    "    pairs = [(u0, u1) for u0, u1 in combinations(range(K), 2)]\n",
    "    pair_index = 0\n",
    "    pair_index2 = 0\n",
    "    for u0, u1 in pairs:\n",
    "\n",
    "        remained_givers = filter_out_pts(np.squeeze(np.dstack((U[:,u0], U[:,u1]))), thrld)\n",
    "        remained_claimers = filter_out_pts(np.squeeze(np.dstack((VT[:,u0], VT[:,u1]))), thrld)\n",
    "#         extract_U_indices, u_bk0, u_bk1, u_bk2 = extract_pts_from_rays(U[:,u0], U[:,u1], remained_givers)\n",
    "#         extract_VT_indices, vt_bk0, vt_bk1, vt_bk2 = extract_pts_from_rays(VT[:,u0],VT[:,u1], remained_claimers)\n",
    "        extract_U_indices, u_bk0, u_bk1, u_bk2, ray_angle_deviation_givers = extract_pts_from_rays(U[:,u0], U[:,u1], remained_givers)\n",
    "        extract_VT_indices, vt_bk0, vt_bk1, vt_bk2, ray_angle_deviation_claimers = extract_pts_from_rays(VT[:,u0],VT[:,u1], remained_claimers)\n",
    "        extracted_givers[pair_index] = extract_U_indices\n",
    "        extracted_claimers[pair_index] = extract_VT_indices\n",
    "        ray_angle_deviation[pair_index2] = ray_angle_deviation_givers\n",
    "        ray_angle_deviation[pair_index2 + 1] = ray_angle_deviation_claimers\n",
    "        pair_index += 1\n",
    "        pair_index2 += 2\n",
    "\n",
    "    nodesTripWire = []\n",
    "    for usr in extracted_givers.values(): \n",
    "        nodesTripWire.extend(usr)\n",
    "    for usr in extracted_claimers.values():\n",
    "        nodesTripWire.extend(usr)\n",
    "    nodesTripWire = list(set(nodesTripWire))\n",
    "    \n",
    "    sus_ray_angle_deviation = {}\n",
    "    for _pair, _ray_angle_dev in ray_angle_deviation.items():\n",
    "        sus_ray_angle_deviation = mergeDict(sus_ray_angle_deviation, _ray_angle_dev)\n",
    "    \n",
    "    for _usr, _ray_angle_dev in sus_ray_angle_deviation.items():\n",
    "        if isinstance(_ray_angle_dev, list):\n",
    "            output = reemovNestings(_ray_angle_dev)\n",
    "            sus_ray_angle_deviation[_usr] = round(np.mean(output),4)\n",
    "\n",
    "    sus_usr_score = dict(zip(list(sus_ray_angle_deviation.keys()), \n",
    "                                     np.exp(-1*np.array(list(sus_ray_angle_deviation.values()))/np.linalg.norm(\n",
    "                                                                list(sus_ray_angle_deviation.values())).astype(float)).tolist()))\n",
    "    return nodesTripWire, sus_usr_score\n",
    "\n",
    "def filter_out_pts(X, tao_thrld):\n",
    "    \"\"\"\n",
    "    filter out the points nearby the origin by the a fixed threshold for each dimension: keep if more than this threshold, else throw it away.\n",
    "\n",
    "    Parameters: \n",
    "        X: the SVD spectral matrix.\n",
    "        tao_thrld: the threshold for judging how much the point is close to the origin in the specific dimension.\n",
    "    Returns:\n",
    "        the points which don't lie around the origin in SVD spectral space.\n",
    "    \"\"\"\n",
    "    num_row, num_col = X.shape\n",
    "\n",
    "    thres_alldim = [max(abs(x) for x in X[:, i])/10 for i in range(num_col)]\n",
    "#     print \"&&&\", thres_alldim\n",
    "    remained_indices = []\n",
    "    for i in range(num_row):\n",
    "        if np.any([True if abs(X[i, j]) >= tao_thrld * thres_alldim[j] else False for j in range(num_col)]):\n",
    "            remained_indices.append(i)\n",
    "    return remained_indices\n",
    "\n",
    "\n",
    "def extract_pts_from_rays(X,Y,indices): \n",
    "    \"\"\"\n",
    "    extract points from three specific angular ranges in the polar coordinate. \n",
    "\n",
    "    Parameters:\n",
    "        X: the x-axis value list of one specific group of points in the SVD spectral space.\n",
    "        Y: the y-axis value list of one specific group of points in the SVD spectral space.\n",
    "        indices: the indices of this specific group of points.\n",
    "    Returns: \n",
    "        the points in the spectral ray. \n",
    "    \"\"\"\n",
    "\n",
    "    extracted_indices = []\n",
    "    bucket0, bucket1, bucket2 = [], [], []\n",
    "    rayAngDev = {}\n",
    "    for j in indices:\n",
    "        _, theta = cart2pol(X[j], Y[j])\n",
    "        if theta >= 89:\n",
    "            bucket0.append(j)\n",
    "        if theta <= -89:\n",
    "            bucket1.append(j)\n",
    "        if -1 <= theta <= 1:\n",
    "            bucket2.append(j)\n",
    "        \n",
    "        if 45 >= theta >= 0:\n",
    "            rayAngDev[j] = theta\n",
    "        elif 90 >= theta > 45:\n",
    "            rayAngDev[j] = 90-theta\n",
    "        elif 145 >= theta > 90:\n",
    "            rayAngDev[j] = theta-90\n",
    "        elif 180 >= theta > 145:\n",
    "            rayAngDev[j] = 180 - theta\n",
    "        elif 0 > theta >= -45:\n",
    "            rayAngDev[j] = 0 - theta\n",
    "        elif -45 > theta >= -90:\n",
    "            rayAngDev[j] = 90 + theta\n",
    "        elif -90 > theta >= -145:\n",
    "            rayAngDev[j] = -90 - theta\n",
    "        else:\n",
    "            rayAngDev[j] = 180 + theta \n",
    "            \n",
    "    extracted_indices.extend(bucket0)\n",
    "    extracted_indices.extend(bucket1)\n",
    "    extracted_indices.extend(bucket2)\n",
    "#     return extracted_indices, bucket0, bucket1, bucket2\n",
    "    return extracted_indices, bucket0, bucket1, bucket2, rayAngDev\n",
    "\n",
    "def cart2pol(x,y):\n",
    "    \"\"\"\n",
    "    convert cartesian coordinates to polar coordinates, which is for vidualization of points filtered by the corresponding spectral dimension in a cartesian coordinate.\n",
    "\n",
    "    Paramters: \n",
    "        x: the x-axis value in cartesian coordinate.\n",
    "        y: the y-axis value in cartesian coordinate.\n",
    "    Returns:\n",
    "        the corresponding polar coordinate of (x, y)\n",
    "    \"\"\"\n",
    "    rho = np.sqrt(x**2 + y**2)\n",
    "    phi = np.arctan(y/x if x else y/(x+.000001)) * 180/np.pi\n",
    "    return rho, phi"
   ]
  },
  {
   "cell_type": "code",
   "execution_count": 18,
   "metadata": {},
   "outputs": [],
   "source": [
    "def AUC(Data, Y, score_type = None, colorLineSet = None, linestyles= None, _fig_title=None, _lambda_0 = None, _index = None, granularity = None):\n",
    "    \n",
    "    roc_auc_coll = []\n",
    "    i = 0\n",
    "    for _data, _y in zip(Data, Y):\n",
    "        fprs, tprs, thresholds = roc_curve(_y, _data)\n",
    "        roc_auc = auc(fprs, tprs)\n",
    "        plt.plot(fprs, tprs, colorLineSet[i], linestyle=linestyles[i],\n",
    "                                 label='%s (AUC = %0.4f)'%(score_type[i], roc_auc))\n",
    "        i += 1\n",
    "        roc_auc_coll.append(roc_auc)\n",
    "\n",
    "    plt.xlim([-0.05, 1.05])\n",
    "    plt.ylim([-0.05, 1.05])\n",
    "    plt.xlabel('False Positive Rate')\n",
    "    plt.ylabel('True Positive Rate')\n",
    "    plt.legend(loc=\"best\", prop={'size': 8})\n",
    "    \n",
    "    if _lambda_0:\n",
    "        plt.title(_lambda_0)\n",
    "    plt.savefig('./Wiki_AUROC.png', dpi=1000)\n",
    "    plt.show()\n",
    "    plt.close()\n",
    "    return roc_auc_coll\n",
    "\n",
    "score_type = ['LS', 'OR', 'LS+SR', 'OR+SR', 'OPERA', \n",
    "              'FB', 'LOF']\n",
    "colorLineSet = ['blue', 'green', 'magenta', 'purple', 'red', 'cyan','cadetblue']\n",
    "linestyles = ['--','--','-.','-.','-',':', ':']"
   ]
  },
  {
   "cell_type": "markdown",
   "metadata": {},
   "source": [
    "### 3. Evaluation"
   ]
  },
  {
   "cell_type": "markdown",
   "metadata": {},
   "source": [
    "##### 3.1 logSpike"
   ]
  },
  {
   "cell_type": "code",
   "execution_count": 19,
   "metadata": {},
   "outputs": [],
   "source": [
    "perc_Ys_dev = 90\n",
    "perc_Xs = 5\n",
    "\n",
    "outdegree_discrete_distr = dict(collections.OrderedDict(sorted(dict(Counter(outdegree_distr)).items())))\n",
    "unique_values, frequencies = list(outdegree_discrete_distr.keys()), \\\n",
    "                                    list(outdegree_discrete_distr.values())\n",
    "Xs_abn = [_outdegree for _outdegree, _usrid in zip(outdegree_distr, usr_id) if usrId2Labels[str(_usrid)] == 1]\n",
    "sus_usrs_outdegree_logSpike, sus_scores_outdegree_logSpike = logSpikeFilter(outdegree_distr, usr_id, \"outdegree\", perc_Ys_dev, perc_Xs)"
   ]
  },
  {
   "cell_type": "code",
   "execution_count": 20,
   "metadata": {},
   "outputs": [],
   "source": [
    "perc_Ys_dev = 99\n",
    "perc_Xs = 5\n",
    "\n",
    "editCount_discrete_distr = dict(collections.OrderedDict(sorted(dict(Counter(editCount_distri_out)).items())))\n",
    "unique_values, frequencies = list(editCount_discrete_distr.keys()), \\\n",
    "                                    list(editCount_discrete_distr.values())\n",
    "Xs_abn = [_editCount for _editCount, _usrid in zip(editCount_distri_out, usr_edit_count) \n",
    "                                                          if usrId2Labels[str(_usrid)] == 1]\n",
    "sus_usrs_editCount_logSpike, sus_scores_editCount_logSpike = logSpikeFilter(editCount_distri_out, usr_edit_count, \"editCount\", perc_Ys_dev, perc_Xs)"
   ]
  },
  {
   "cell_type": "code",
   "execution_count": 21,
   "metadata": {},
   "outputs": [],
   "source": [
    "sus_scores_logSpike = {}\n",
    "for _usr in sus_scores_outdegree_logSpike.keys():\n",
    "    sus_scores_logSpike[_usr] = np.min([sus_scores_outdegree_logSpike[_usr], sus_scores_editCount_logSpike[_usr]])"
   ]
  },
  {
   "cell_type": "code",
   "execution_count": 22,
   "metadata": {},
   "outputs": [],
   "source": [
    "sus_scores_logSpike_norm = dict(zip(list(sus_scores_logSpike.keys()), \n",
    "                                     list(sus_scores_logSpike.values())/np.linalg.norm(\n",
    "                                        list(sus_scores_logSpike.values())).astype(float)))"
   ]
  },
  {
   "cell_type": "code",
   "execution_count": 23,
   "metadata": {},
   "outputs": [
    {
     "data": {
      "image/png": "[encoded data removed]",
      "text/plain": [
       "<Figure size 432x288 with 1 Axes>"
      ]
     },
     "metadata": {
      "needs_background": "light"
     },
     "output_type": "display_data"
    }
   ],
   "source": [
    "y = [usrId2Labels[str(_usr)] for _usr in sus_scores_logSpike_norm.keys()]\n",
    "_ = AUC([list(sus_scores_logSpike_norm.values())], [y], score_type, colorLineSet, linestyles)"
   ]
  },
  {
   "cell_type": "code",
   "execution_count": 24,
   "metadata": {},
   "outputs": [],
   "source": [
    "sus_usrs_logSpike = set(sus_usrs_outdegree_logSpike).union(set(sus_usrs_editCount_logSpike))"
   ]
  },
  {
   "cell_type": "code",
   "execution_count": 25,
   "metadata": {},
   "outputs": [
    {
     "name": "stdout",
     "output_type": "stream",
     "text": [
      "# of suspicious                # of real                      Precision                     \n",
      " \n",
      "347                            17                             0.049                         \n"
     ]
    }
   ],
   "source": [
    "_predited_labels = [usrId2Labels[str(_usr)] for _usr in sus_usrs_logSpike]\n",
    "print(\"{:<30} {:<30} {:<30}\".format('# of suspicious','# of real','Precision'))\n",
    "print(\" \")\n",
    "print(\"{:<30} {:<30} {:<30}\".format(\n",
    "    len(_predited_labels), np.sum(_predited_labels),round(np.sum(_predited_labels)/float(len(_predited_labels)), 4)))"
   ]
  },
  {
   "cell_type": "markdown",
   "metadata": {},
   "source": [
    "##### 3.2 oddRatio"
   ]
  },
  {
   "cell_type": "code",
   "execution_count": 26,
   "metadata": {},
   "outputs": [],
   "source": [
    "perc_Ys_dev = 95\n",
    "perc_Xs = 5\n",
    "\n",
    "ux_outdegree, x_outdegree, y_outdegree, y_fitted_outdegree \\\n",
    "= eng.eval('powerwall(%s)'%outdegree_distr, nargout=4)\n",
    "\n",
    "ux_outdegree, x_outdegree, y_outdegree, y_fitted_outdegree \\\n",
    "= np.asarray(ux_outdegree).flatten(), np.asarray(x_outdegree).flatten(), \\\n",
    "np.asarray(y_outdegree).flatten(), np.asarray(y_fitted_outdegree).flatten()\n",
    "\n",
    "sus_usrs_outdegree_oddRatio, sus_scores_outdegree_oddRatio= OddsRatioFilter(ux_outdegree, y_outdegree, y_fitted_outdegree,\n",
    "                                          outdegree_distr, usr_id, \"outdegree\", perc_Ys_dev, perc_Xs)"
   ]
  },
  {
   "cell_type": "code",
   "execution_count": 27,
   "metadata": {},
   "outputs": [],
   "source": [
    "perc_Ys_dev = 99\n",
    "perc_Xs = 5\n",
    "\n",
    "ux_editCount, x_editCount, y_editCount, y_fitted_editCount \\\n",
    "= eng.eval('powerwall(%s)'%editCount_distri_out, nargout=4)\n",
    "\n",
    "ux_editCount, x_editCount, y_editCount, y_fitted_editCount \\\n",
    "= np.asarray(ux_editCount).flatten(), np.asarray(x_editCount).flatten(), \\\n",
    "np.asarray(y_editCount).flatten(), np.asarray(y_fitted_editCount).flatten()\n",
    "\n",
    "sus_usrs_editCount_oddRatio, sus_scores_editCount_oddRatio = OddsRatioFilter(ux_editCount, y_editCount, y_fitted_editCount,\n",
    "                                          editCount_distri_out, usr_edit_count, \"editCount\", perc_Ys_dev, perc_Xs)"
   ]
  },
  {
   "cell_type": "code",
   "execution_count": 28,
   "metadata": {},
   "outputs": [],
   "source": [
    "sus_scores_oddRatio = {}\n",
    "for _usr in sus_scores_outdegree_oddRatio.keys():\n",
    "    sus_scores_oddRatio[_usr] = np.min([sus_scores_outdegree_oddRatio[_usr], sus_scores_editCount_oddRatio[_usr]])"
   ]
  },
  {
   "cell_type": "code",
   "execution_count": 29,
   "metadata": {},
   "outputs": [],
   "source": [
    "sus_scores_oddRatio_norm = dict(zip(list(sus_scores_oddRatio.keys()), \n",
    "                                     list(sus_scores_oddRatio.values())/np.linalg.norm(\n",
    "                                        list(sus_scores_oddRatio.values())).astype(float)))"
   ]
  },
  {
   "cell_type": "code",
   "execution_count": 30,
   "metadata": {},
   "outputs": [
    {
     "data": {
      "image/png": "[encoded data removed]",
      "text/plain": [
       "<Figure size 432x288 with 1 Axes>"
      ]
     },
     "metadata": {
      "needs_background": "light"
     },
     "output_type": "display_data"
    }
   ],
   "source": [
    "y = [usrId2Labels[str(_usr)] for _usr in sus_scores_oddRatio_norm.keys()]\n",
    "_ = AUC([list(sus_scores_oddRatio_norm.values())], [y], score_type, colorLineSet, linestyles)"
   ]
  },
  {
   "cell_type": "code",
   "execution_count": 31,
   "metadata": {},
   "outputs": [],
   "source": [
    "sus_usrs_oddRatio = set(sus_usrs_outdegree_oddRatio).union(set(sus_usrs_editCount_oddRatio))"
   ]
  },
  {
   "cell_type": "code",
   "execution_count": 32,
   "metadata": {},
   "outputs": [
    {
     "name": "stdout",
     "output_type": "stream",
     "text": [
      "# of suspicious                # of real                      Precision                     \n",
      " \n",
      "298                            16                             0.0537                        \n"
     ]
    }
   ],
   "source": [
    "_predited_labels = [usrId2Labels[str(_usr)] for _usr in sus_usrs_oddRatio]\n",
    "print(\"{:<30} {:<30} {:<30}\".format('# of suspicious','# of real','Precision'))\n",
    "print(\" \")\n",
    "print(\"{:<30} {:<30} {:<30}\".format(\n",
    "    len(_predited_labels), np.sum(_predited_labels),round(np.sum(_predited_labels)/float(len(_predited_labels)), 4)))"
   ]
  },
  {
   "cell_type": "markdown",
   "metadata": {},
   "source": [
    "##### 3.3 spetralRay"
   ]
  },
  {
   "cell_type": "markdown",
   "metadata": {},
   "source": [
    "##### logSpike + spectralRay"
   ]
  },
  {
   "cell_type": "code",
   "execution_count": 33,
   "metadata": {},
   "outputs": [
    {
     "name": "stdout",
     "output_type": "stream",
     "text": [
      "# of suspicious                # of real                      Precision                     \n",
      " \n",
      "268                            16                             0.0597                        \n"
     ]
    }
   ],
   "source": [
    "user_num = 3030\n",
    "with open('%s/spectralRay/usrR_2_usrL_logSpike.txt'%repos_root, \"w\") as fp:\n",
    "    for _usrR, _usrL in combinations(sus_usrs_logSpike, 2):\n",
    "        _comm_nodes = set(usr_2_page[_usrR]).intersection(set(usr_2_page[_usrL]))\n",
    "        if _comm_nodes:\n",
    "            fp.write(str(_usrR) + \" \" + str(_usrL) + \" \" + str(len(_comm_nodes)) + \"\\n\")\n",
    "adj_usrR_2_usrL_logSpike = svd_new.load_matrix('%s/spectralRay/usrR_2_usrL_logSpike.txt'%repos_root, shape=(user_num, user_num))\n",
    "sus_nodesTripWire_logSpike, sus_score_nodesTripWire_logSpike = SpectralRay(30, adj_usrR_2_usrL_logSpike, 1)\n",
    "# sus_nodesTripWire_logSpike, sus_scores_logSpike_spectralRay = SpectralRay(10, adj_usrR_2_usrL_logSpike, 1)\n",
    "_predited_labels = [usrId2Labels[str(_usr)] for _usr in sus_nodesTripWire_logSpike]\n",
    "print(\"{:<30} {:<30} {:<30}\".format('# of suspicious','# of real','Precision'))\n",
    "print(\" \")\n",
    "print(\"{:<30} {:<30} {:<30}\".format(\n",
    "    len(_predited_labels), np.sum(_predited_labels),round(np.sum(_predited_labels)/float(len(_predited_labels)), 4)))"
   ]
  },
  {
   "cell_type": "code",
   "execution_count": 34,
   "metadata": {},
   "outputs": [],
   "source": [
    "for _usr, _sus_score in sus_scores_logSpike.items():\n",
    "    if _usr in sus_score_nodesTripWire_logSpike.keys():\n",
    "        sus_score_nodesTripWire_logSpike[_usr] = np.exp(sus_score_nodesTripWire_logSpike[_usr]) * _sus_score\n",
    "    else:\n",
    "        sus_score_nodesTripWire_logSpike[_usr] = _sus_score"
   ]
  },
  {
   "cell_type": "code",
   "execution_count": 35,
   "metadata": {},
   "outputs": [],
   "source": [
    "sus_score_nodesTripWire_logSpike_norm = dict(zip(list(sus_score_nodesTripWire_logSpike.keys()), \n",
    "                                     list(sus_score_nodesTripWire_logSpike.values())/np.linalg.norm(\n",
    "                                        list(sus_score_nodesTripWire_logSpike.values())).astype(float)))"
   ]
  },
  {
   "cell_type": "code",
   "execution_count": 36,
   "metadata": {},
   "outputs": [
    {
     "data": {
      "image/png": "[encoded data removed]",
      "text/plain": [
       "<Figure size 432x288 with 1 Axes>"
      ]
     },
     "metadata": {
      "needs_background": "light"
     },
     "output_type": "display_data"
    }
   ],
   "source": [
    "y = [usrId2Labels[str(_usr)] for _usr in sus_score_nodesTripWire_logSpike_norm.keys()]\n",
    "_ = AUC([list(sus_score_nodesTripWire_logSpike_norm.values())], [y], score_type, colorLineSet, linestyles)"
   ]
  },
  {
   "cell_type": "code",
   "execution_count": null,
   "metadata": {},
   "outputs": [],
   "source": []
  },
  {
   "cell_type": "markdown",
   "metadata": {},
   "source": [
    "##### oddRatio + spectralRay"
   ]
  },
  {
   "cell_type": "code",
   "execution_count": 37,
   "metadata": {},
   "outputs": [
    {
     "name": "stdout",
     "output_type": "stream",
     "text": [
      "# of suspicious                # of real                      Precision                     \n",
      " \n",
      "238                            15                             0.063                         \n"
     ]
    }
   ],
   "source": [
    "user_num = 3030\n",
    "with open('%s/spectralRay/usrR_2_usrL_oddRatio.txt'%repos_root, \"w\") as fp:\n",
    "    for _usrR, _usrL in combinations(sus_usrs_oddRatio,2):\n",
    "        _comm_nodes = set(usr_2_page[_usrR]).intersection(set(usr_2_page[_usrL]))\n",
    "        if _comm_nodes:\n",
    "            fp.write(str(_usrR) + \" \" + str(_usrL) + \" \" + str(len(_comm_nodes)) + \"\\n\")\n",
    "adj_usrR_2_usrL_oddRatio = svd_new.load_matrix('%s/spectralRay/usrR_2_usrL_oddRatio.txt'%repos_root, shape=(user_num, user_num))\n",
    "sus_nodesTripWire_oddRatio, sus_score_nodesTripWire_oddRatio = SpectralRay(30, adj_usrR_2_usrL_oddRatio, 1)\n",
    "_predited_labels = [usrId2Labels[str(_usr)] for _usr in sus_nodesTripWire_oddRatio]\n",
    "print(\"{:<30} {:<30} {:<30}\".format('# of suspicious','# of real','Precision'))\n",
    "print(\" \")\n",
    "print(\"{:<30} {:<30} {:<30}\".format(\n",
    "    len(_predited_labels), np.sum(_predited_labels),round(np.sum(_predited_labels)/float(len(_predited_labels)), 4)))"
   ]
  },
  {
   "cell_type": "code",
   "execution_count": 38,
   "metadata": {},
   "outputs": [],
   "source": [
    "for _usr, _sus_score in sus_scores_oddRatio.items():\n",
    "    if _usr in sus_score_nodesTripWire_oddRatio.keys():\n",
    "        sus_score_nodesTripWire_oddRatio[_usr] = np.exp(sus_score_nodesTripWire_oddRatio[_usr]) * _sus_score\n",
    "    else:\n",
    "        sus_score_nodesTripWire_oddRatio[_usr] = _sus_score"
   ]
  },
  {
   "cell_type": "code",
   "execution_count": 39,
   "metadata": {},
   "outputs": [],
   "source": [
    "sus_score_nodesTripWire_oddRatio_norm = dict(zip(list(sus_score_nodesTripWire_oddRatio.keys()), \n",
    "                                     list(sus_score_nodesTripWire_oddRatio.values())/np.linalg.norm(\n",
    "                                        list(sus_score_nodesTripWire_oddRatio.values())).astype(float)))"
   ]
  },
  {
   "cell_type": "code",
   "execution_count": 40,
   "metadata": {},
   "outputs": [
    {
     "data": {
      "image/png": "[encoded data removed]",
      "text/plain": [
       "<Figure size 432x288 with 1 Axes>"
      ]
     },
     "metadata": {
      "needs_background": "light"
     },
     "output_type": "display_data"
    }
   ],
   "source": [
    "y = [usrId2Labels[str(_usr)] for _usr in sus_score_nodesTripWire_oddRatio_norm.keys()]\n",
    "_ = AUC([list(sus_score_nodesTripWire_oddRatio_norm.values())], [y], score_type, colorLineSet, linestyles)"
   ]
  },
  {
   "cell_type": "markdown",
   "metadata": {},
   "source": [
    "##### (logSpike + oddRatio) + spectralRay"
   ]
  },
  {
   "cell_type": "code",
   "execution_count": 41,
   "metadata": {},
   "outputs": [],
   "source": [
    "sus_usrs_spetralRay_raw = sus_usrs_logSpike.union(sus_usrs_oddRatio)"
   ]
  },
  {
   "cell_type": "code",
   "execution_count": 42,
   "metadata": {},
   "outputs": [
    {
     "name": "stdout",
     "output_type": "stream",
     "text": [
      "# of suspicious                # of real                      Precision                     \n",
      " \n",
      "267                            17                             0.0637                        \n"
     ]
    }
   ],
   "source": [
    "user_num = 3030\n",
    "with open('%s/spectralRay/usrR_2_usrL_log_odd_comb.txt'%repos_root, \"w\") as fp:\n",
    "    for _usrR, _usrL in combinations(sus_usrs_spetralRay_raw,2):\n",
    "        _comm_nodes = set(usr_2_page[_usrR]).intersection(set(usr_2_page[_usrL]))\n",
    "        if _comm_nodes:\n",
    "            fp.write(str(_usrR) + \" \" + str(_usrL) + \" \" + str(len(_comm_nodes)) + \"\\n\")\n",
    "adj_usrR_2_usrL_log_odd_comb = svd_new.load_matrix('%s/spectralRay/usrR_2_usrL_log_odd_comb.txt'%repos_root, shape=(user_num, user_num))\n",
    "sus_nodesTripWire_log_odd_comb,  sus_score_nodesTripWire_log_odd_comb = SpectralRay(30, adj_usrR_2_usrL_log_odd_comb, 1)\n",
    "_predited_labels = [usrId2Labels[str(_usr)] for _usr in sus_nodesTripWire_log_odd_comb]\n",
    "print(\"{:<30} {:<30} {:<30}\".format('# of suspicious','# of real','Precision'))\n",
    "print(\" \")\n",
    "print(\"{:<30} {:<30} {:<30}\".format(\n",
    "    len(_predited_labels), np.sum(_predited_labels),round(np.sum(_predited_labels)/float(len(_predited_labels)), 4)))"
   ]
  },
  {
   "cell_type": "code",
   "execution_count": 43,
   "metadata": {},
   "outputs": [],
   "source": [
    "sus_scores_oddRatio_logSpike = dict([(_usr, np.min([sus_scores_logSpike[_usr], sus_scores_oddRatio[_usr]])) \n",
    "                                for _usr in sus_scores_logSpike.keys()])"
   ]
  },
  {
   "cell_type": "code",
   "execution_count": 44,
   "metadata": {},
   "outputs": [],
   "source": [
    "for _usr, _sus_score in sus_scores_oddRatio_logSpike.items():\n",
    "    if _usr in sus_score_nodesTripWire_log_odd_comb.keys():\n",
    "        sus_score_nodesTripWire_log_odd_comb[_usr] = np.exp(sus_score_nodesTripWire_log_odd_comb[_usr]) * _sus_score\n",
    "    else:\n",
    "        sus_score_nodesTripWire_log_odd_comb[_usr] = _sus_score"
   ]
  },
  {
   "cell_type": "code",
   "execution_count": 45,
   "metadata": {},
   "outputs": [],
   "source": [
    "sus_score_nodesTripWire_log_odd_comb_norm = dict(zip(list(sus_score_nodesTripWire_log_odd_comb.keys()), \n",
    "                                     list(sus_score_nodesTripWire_log_odd_comb.values())/np.linalg.norm(\n",
    "                                        list(sus_score_nodesTripWire_log_odd_comb.values())).astype(float)))"
   ]
  },
  {
   "cell_type": "code",
   "execution_count": 46,
   "metadata": {},
   "outputs": [
    {
     "data": {
      "image/png": "[encoded data removed]",
      "text/plain": [
       "<Figure size 432x288 with 1 Axes>"
      ]
     },
     "metadata": {
      "needs_background": "light"
     },
     "output_type": "display_data"
    }
   ],
   "source": [
    "y = [usrId2Labels[str(_usr)] for _usr in sus_score_nodesTripWire_log_odd_comb_norm.keys()]\n",
    "_ = AUC([list(sus_score_nodesTripWire_log_odd_comb_norm.values())], [y], score_type, colorLineSet, linestyles)"
   ]
  },
  {
   "cell_type": "code",
   "execution_count": 47,
   "metadata": {},
   "outputs": [],
   "source": [
    "def f1(x,y):\n",
    "    return round(2*(x*y)/(x+y), 4)"
   ]
  },
  {
   "cell_type": "markdown",
   "metadata": {},
   "source": [
    "###### precision"
   ]
  },
  {
   "cell_type": "code",
   "execution_count": 48,
   "metadata": {},
   "outputs": [
    {
     "data": {
      "text/plain": [
       "(0.049, 0.0537, 0.0597, 0.063, 0.0637)"
      ]
     },
     "execution_count": 48,
     "metadata": {},
     "output_type": "execute_result"
    }
   ],
   "source": [
    "(0.0490, 0.0537, 0.0597, 0.0630, 0.0637)"
   ]
  },
  {
   "cell_type": "markdown",
   "metadata": {},
   "source": [
    "###### recall"
   ]
  },
  {
   "cell_type": "code",
   "execution_count": 49,
   "metadata": {},
   "outputs": [
    {
     "data": {
      "text/plain": [
       "(0.5667, 0.5333, 0.5333, 0.5, 0.5667)"
      ]
     },
     "execution_count": 49,
     "metadata": {},
     "output_type": "execute_result"
    }
   ],
   "source": [
    "round(17/30., 4),round(16/30., 4), round(16/30., 4), round(15/30., 4), round(17/30., 4)"
   ]
  },
  {
   "cell_type": "markdown",
   "metadata": {},
   "source": [
    "###### f1"
   ]
  },
  {
   "cell_type": "code",
   "execution_count": 50,
   "metadata": {},
   "outputs": [
    {
     "data": {
      "text/plain": [
       "(0.0902, 0.0976, 0.1074, 0.1119, 0.1145)"
      ]
     },
     "execution_count": 50,
     "metadata": {},
     "output_type": "execute_result"
    }
   ],
   "source": [
    "f1(0.0490, 17/30.), f1(0.0537, 16/30.), f1(0.0597, 16/30.), f1(0.0630, 15/30.), f1(0.0637, 17/30.)"
   ]
  },
  {
   "cell_type": "code",
   "execution_count": null,
   "metadata": {},
   "outputs": [],
   "source": []
  },
  {
   "cell_type": "markdown",
   "metadata": {},
   "source": [
    "###### AUROC"
   ]
  },
  {
   "cell_type": "code",
   "execution_count": 51,
   "metadata": {},
   "outputs": [
    {
     "data": {
      "text/plain": [
       "3030"
      ]
     },
     "execution_count": 51,
     "metadata": {},
     "output_type": "execute_result"
    }
   ],
   "source": [
    "len(sus_score_nodesTripWire_log_odd_comb_norm.keys())"
   ]
  },
  {
   "cell_type": "code",
   "execution_count": 52,
   "metadata": {},
   "outputs": [
    {
     "data": {
      "text/plain": [
       "3030"
      ]
     },
     "execution_count": 52,
     "metadata": {},
     "output_type": "execute_result"
    }
   ],
   "source": [
    "len(sus_score_nodesTripWire_oddRatio_norm.keys())"
   ]
  },
  {
   "cell_type": "code",
   "execution_count": 53,
   "metadata": {},
   "outputs": [],
   "source": [
    "with open('%s/score_oneClaSVM.json'%repos_root, \"r\") as fp:\n",
    "    score_oneClaSVM = json.load(fp)\n",
    "with open('%s/score_feaBag.json'%repos_root, \"r\") as fp:\n",
    "    score_feaBag = json.load(fp)\n",
    "with open('%s/score_lof.json'%repos_root, \"r\") as fp:\n",
    "    score_lof = json.load(fp)"
   ]
  },
  {
   "cell_type": "code",
   "execution_count": 54,
   "metadata": {},
   "outputs": [
    {
     "data": {
      "image/png": "[encoded data removed]",
      "text/plain": [
       "<Figure size 432x288 with 1 Axes>"
      ]
     },
     "metadata": {
      "needs_background": "light"
     },
     "output_type": "display_data"
    }
   ],
   "source": [
    "score_oneClassSVM = []\n",
    "score_featureBagging = []\n",
    "score_localOutlierFactor = []\n",
    "score_logSpike = []\n",
    "score_oddRatio = []\n",
    "score_logSpike_spectralRay = []\n",
    "score_oddRatio_spectralRay = []\n",
    "score_oddRatio_logSpike_spectralRay = []\n",
    "y_true = []\n",
    "for _usr, _label in usrId2Labels.items():\n",
    "    y_true.append(_label)\n",
    "    \n",
    "    score_oneClassSVM.append(score_oneClaSVM[_usr])\n",
    "    score_featureBagging.append(score_feaBag[_usr])\n",
    "    score_localOutlierFactor.append(score_lof[_usr])\n",
    "    \n",
    "    score_logSpike.append(sus_scores_logSpike_norm[int(_usr)])\n",
    "    score_oddRatio.append(sus_scores_oddRatio_norm[int(_usr)])\n",
    "    score_logSpike_spectralRay.append(sus_score_nodesTripWire_logSpike_norm[int(_usr)])\n",
    "    score_oddRatio_spectralRay.append(sus_score_nodesTripWire_oddRatio_norm[int(_usr)])\n",
    "    score_oddRatio_logSpike_spectralRay.append(sus_score_nodesTripWire_log_odd_comb_norm[int(_usr)])\n",
    "\n",
    "    \n",
    "Data = [score_logSpike, score_oddRatio, score_logSpike_spectralRay, \n",
    "        score_oddRatio_spectralRay, score_oddRatio_logSpike_spectralRay, \n",
    "       score_featureBagging, score_localOutlierFactor]\n",
    "Y = [y_true, y_true, y_true, y_true,y_true, y_true, y_true]\n",
    "_ = AUC(Data, Y, score_type, colorLineSet, linestyles)\n",
    "    "
   ]
  },
  {
   "cell_type": "code",
   "execution_count": null,
   "metadata": {},
   "outputs": [],
   "source": []
  }
 ],
 "metadata": {
  "kernelspec": {
   "display_name": "Python 3",
   "language": "python",
   "name": "python3"
  },
  "language_info": {
   "codemirror_mode": {
    "name": "ipython",
    "version": 3
   },
   "file_extension": ".py",
   "mimetype": "text/x-python",
   "name": "python",
   "nbconvert_exporter": "python",
   "pygments_lexer": "ipython3",
   "version": "3.7.3"
  }
 },
 "nbformat": 4,
 "nbformat_minor": 2
}
